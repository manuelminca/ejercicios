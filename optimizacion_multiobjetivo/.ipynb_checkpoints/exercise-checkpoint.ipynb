{
 "cells": [
  {
   "cell_type": "markdown",
   "id": "approved-relay",
   "metadata": {},
   "source": [
    "## Overview\n",
    "\n",
    "Hay muchos problemas donde hay más de una dimensión a optimizar y las dimensiones no se pueden comparar fácilmente entre sí.\n",
    "\n",
    "Por ejemplo, si compramos un vino nos interesa encontrar un vino que tenga buen sabor y bajo coste, pero no está claro como comparar las dimensiones de sabor y coste entre sí: cuantas \"unidades de sabor\" equivalen a 1 euro?\n",
    "\n",
    "Este tipo de problemas se llaman [problemas de optimización multiobjetivo](https://en.wikipedia.org/wiki/Multi-objective_optimization).\n",
    "\n",
    "Cuando hay varias dimensiones, la intuición cruda probablemente nos va a llevar a decisiones malas. En estas situaciones, vale la pena:\n",
    "1. pintar una matriz de **opciones x dimensiones** para juntar en un sitio todos los datos\n",
    "2. pensar en la [pareto dominancia](https://en.wikipedia.org/wiki/Pareto_efficiency) (o una aproximación): esto es una forma de formalizar la intuición de que si una opción **a** es mejor en alguna dimensión y no peor en las demás que una opción **b**, la opción **a** es superior. Aunque no siempre podamos comparar todas las opciones posibles entre sí, sí que **podemos descartar todas aquellas opciones que están pareto-dominadas por otras**\n",
    "3. una vez descartadas las opciones no pareto eficientes, escoger entre las restantes\n",
    "\n",
    "* [Ejemplo](#ejemplo)\n",
    "* [Ejercicio](#ejercicio)\n",
    "  * [1 Pareto dominancia](#1-pareto-dominancia)\n",
    "  * [2 frontera de Pareto](#2-frontera-de-pareto)\n",
    "  * [3 escoger proveedor de cloud](#3-escoger-proveedor-de-cloud)\n",
    "    * [a](#a)\n",
    "    * [b](#b)\n",
    "    * [c](#c)\n",
    "\n",
    "## Ejemplo\n",
    "\n",
    "Queremos escoger un vino. Los vinos los evaluamos en 2 dimensiones, el precio y el sabor. *NB: no tengo ni idea de vinos*.\n",
    "\n",
    "Lo primero es pintar la tabla de **opciones x dimensiones** para tener todos los datos relevantes a mano:\n",
    "\n",
    "| marca | precio | sabor |\n",
    "| ----- | ------ | ----- |\n",
    "| valduero | 3.7 € | 7/10 |\n",
    "| vega sicilia | 3.7 € | 6/10 |\n",
    "| carrefour | 4.1 € | 6/10 |\n",
    "| brik don simon | 55 € | 9/10 |\n",
    "\n",
    "### Pintamos un grafo donde los nodos son las opciones y existe una arista `a -> b` si la opción `a` pareto-domina la opción `b`\n",
    "\n",
    "Una relación de pareto dominancia simplemente es una forma más rigurosa de aplicar el sentido común, eg.\n",
    "\n",
    "**valduero -> vega_sicilia** porque vale lo mismo y está más bueno\n",
    "\n",
    "**valduero -> carrefour** porque vale menos y está más bueno\n",
    "\n",
    "**vega_sicilia -> carrefour** porque vale menos y está igual de bueno\n",
    "\n",
    "**brik_don_simon** no tiene relación de pareto-dominancia con los demás, ya que es mejor en una dimensión que todos y peor en otra dimensión que todos\n",
    "\n",
    "![ejemplo.gv](ejemplo.gv.png)\n",
    "\n",
    "### Identificamos el conjunto de opciones que NO están pareto-dominadas por otras: estas opciones se llaman la frontera de pareto o el conjunto de pareto\n",
    "\n",
    "Una vez tenemos el grafo es fácil encontrar la frontera de pareto: **valduero** y **brik_don_simon**. Los demás no están en la frontera porque están pareto dominados por otros vinos.\n",
    "\n",
    "### escogemos entre los elementos en la frontera de pareto\n",
    "\n",
    "Ahora habrá que ver cómo decidimos entre `valduero` y `brik_don_simon`: el criterio de pareto-dominancia no nos ayudará aquí, necesitamos otro criterio.\n",
    "\n",
    "Por ejemplo, si somos Bill Gates probablemente nos importa más el sabor; si dormimos en la calle, probablemente el precio es más importante.\n",
    "\n",
    "**El criterio de pareto-dominancia nos ha permitido simplificar el problema descartando `vega_sicilia` y `carrefour`**, que no es poco. Da igual que seamos Bill Gates o que durmamos en la calle: las soluciones pareto-dominadas son inferiores.\n",
    "\n",
    "## Ejercicio\n",
    "\n",
    "Estamos poco contentos con nuestro proveedor de cloud, **cloudisa**, y estamos evaluando otras opciones. Nuestro becario, bajo amenaza de no recibir su biberón, ha elaborado una lista de competidores a lo largo de varias dimensiones:\n",
    "\n",
    "* cost: el coste al mes del servicio, cuanto menos mejor\n",
    "* sla: el service level agreement sobre el uptime del proveedor, cuanto más mejor\n",
    "* green energy: si el proveedor usa energía renovable, idealmente sí\n",
    "* child labor: si el proveedor usa trabajo infantil, idealmente no\n",
    "\n",
    "| provider | cost | sla | green energy | child labor |\n",
    "| -------- | ---- | --- | ------------ | ----------- |\n",
    "| cloudisa | 9.103 € | 95 % | no | yes |\n",
    "| valenciana de cloud s.l | 9.081 € | 99 % | no | yes |\n",
    "| cumulonimbus s.l | 9.106 € | 95 % | yes | yes |\n",
    "| cirrusa | 9.081 € | 99 % | yes | yes |\n",
    "| strato y cia. | 9.104 € | 99.9 % | yes | no |\n",
    "\n",
    "![Child-Labour](Child-Labour.jpeg)\n"
   ]
  },
  {
   "cell_type": "markdown",
   "id": "incident-archives",
   "metadata": {},
   "source": [
    "### 1 Pareto dominancia\n",
    "\n",
    "Pintar un grafo donde los nodos son las opciones y existe una arista `a -> b` si la opción `a` pareto-domina la opción `b`, aunque sea a mano alzada y foto\n",
    "\n"
   ]
  },
  {
   "cell_type": "markdown",
   "id": "sporting-shore",
   "metadata": {},
   "source": [
    "![Diagram-1](diagram.png)"
   ]
  },
  {
   "cell_type": "markdown",
   "id": "raised-staff",
   "metadata": {},
   "source": [
    "### 2 frontera de Pareto\n",
    "\n",
    "Encontrar el conjunto de opciones que NO están pareto-dominadas por otras: estas opciones se llaman la [frontera de pareto o el conjunto de pareto](https://en.wikipedia.org/wiki/Pareto_efficiency#Pareto_frontier).\n",
    "\n"
   ]
  },
  {
   "cell_type": "markdown",
   "id": "diverse-scholarship",
   "metadata": {},
   "source": [
    "- Cirrusa: Es más barata\n",
    "- Strato: Tiene mayor sla y no explota niños\n"
   ]
  },
  {
   "cell_type": "markdown",
   "id": "central-blind",
   "metadata": {},
   "source": [
    "### 3 escoger proveedor de cloud\n",
    "\n",
    "#### a\n",
    "\n",
    "**¿Qué opción escogerías? ¿Por qué?**\n",
    "\n",
    "Asumiendo somos mcclane. Somos una empresa que estamos ejecutando e interactuando con el servicio de cloud todos los días a cualquier hora del día.\n",
    "Por tanto el uptime es un valor imprescindible a tener en cuenta.\n",
    "\n",
    "Las opciones que no son pareto dominadas son las siguientes:\n",
    "- Cirrusa: Con un 99% de sla, por lo que estimamos que alrededor de 14 minutos al día el sistema se cae.\n",
    "- Strato: Con un 99.99% de sla, por lo que estimamos que 8 segundos al día el sistema se cae.\n",
    "\n",
    "Esta condición me parece suficiente para seleccionar Strato sobre Cirrusa, ya que el tema monetario no es un problema (no vemos grandes diferencias en el precio, podemos\n",
    "asumir la diferencia).\n",
    "\n",
    "Además, el precio no lo es todo, no queremos explotar niños aunque paguemos más por ello, si tenemos que pagar menos a Pepe se hace.\n",
    "\n",
    "\n",
    "\n",
    "#### b\n",
    "\n",
    "**¿La opción que has escogido está en la frontera de pareto?**\n",
    "Sí.\n",
    "\n",
    "#### c\n",
    "\n",
    "**¿La opción que has escogido pareto-domina a nuestro provider actual, cloudisa?**\n",
    "\n",
    "No, pero aún así creemos que es mejor opción."
   ]
  }
 ],
 "metadata": {
  "kernelspec": {
   "display_name": "Python 3",
   "language": "python",
   "name": "python3"
  },
  "language_info": {
   "codemirror_mode": {
    "name": "ipython",
    "version": 3
   },
   "file_extension": ".py",
   "mimetype": "text/x-python",
   "name": "python",
   "nbconvert_exporter": "python",
   "pygments_lexer": "ipython3",
   "version": "3.8.5"
  }
 },
 "nbformat": 4,
 "nbformat_minor": 5
}
