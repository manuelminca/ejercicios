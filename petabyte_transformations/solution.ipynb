{
 "cells": [
  {
   "cell_type": "markdown",
   "source": [
    "# Exercices \n",
    "\n",
    "## Question 0"
   ],
   "metadata": {}
  },
  {
   "cell_type": "code",
   "execution_count": 8,
   "source": [
    "import os\n",
    "from tempfile import NamedTemporaryFile, TemporaryDirectory\n",
    "import json\n",
    "import tarfile\n",
    "from pathlib import Path\n",
    "from shutil import copyfile"
   ],
   "outputs": [],
   "metadata": {}
  },
  {
   "cell_type": "code",
   "execution_count": 9,
   "source": [
    "def download_blob(blob: str) -> TemporaryDirectory:\n",
    "    with NamedTemporaryFile() as f:\n",
    "        temp_dir = TemporaryDirectory()\n",
    "        target_dir = temp_dir.name\n",
    "        with tarfile.open(blob, \"r:gz\") as tf:\n",
    "            tf.extractall(path=target_dir)\n",
    "\n",
    "        return temp_dir\n",
    "\n",
    "def make_tarfile(output_filename, source_dir):\n",
    "    with tarfile.open(output_filename, \"w:gz\") as tar:\n",
    "        tar.add(source_dir, arcname=os.path.basename(source_dir))"
   ],
   "outputs": [],
   "metadata": {}
  },
  {
   "cell_type": "code",
   "execution_count": 10,
   "source": [
    "path = 'blobs/'\n",
    "blobs_files = os.listdir(path)\n",
    "#Creating the folder if it does not exist already\n",
    "target_directory = 'clean_blobs_1/'\n",
    "if not os.path.exists(target_directory):\n",
    "    os.makedirs(target_directory)\n",
    "\n",
    "#iterating through all compressed files\n",
    "for blob_name in blobs_files:\n",
    "    blob_path = os.path.join(path, blob_name)\n",
    "    temp_dir = download_blob(blob_path)\n",
    "    meta_path = os.path.join(temp_dir.name, \"metadata.json\")\n",
    "    result_path = os.path.join(temp_dir.name, \"result.json\")\n",
    "    extracted_data = {}\n",
    "\n",
    "    name = blob_name.split('-')[0]\n",
    "\n",
    "    with open(meta_path, \"r\") as f:\n",
    "        meta = json.load(f)\n",
    "\n",
    "    with open(result_path, \"r\") as f:\n",
    "        result = json.load(f)\n",
    "\n",
    "    target_file = os.path.join(target_directory, blob_name)\n",
    "    if meta['check_name'] != name:\n",
    "        meta['check_name'] = name\n",
    "\n",
    "        #We need to compress the blob and save it to the target directory\n",
    "        with open('metadata.json', 'w') as outfile:\n",
    "            json.dump(meta, outfile)\n",
    "\n",
    "        with open('result.json', 'w') as outfile:\n",
    "            json.dump(result, outfile)\n",
    "            \n",
    "        with tarfile.open(target_file,\"w:gz\") as tar:\n",
    "            tar.add(os.path.basename('metadata.json'))\n",
    "            tar.add(os.path.basename('result.json'))\n",
    "    else:\n",
    "        copyfile(blob_path, target_file)\n",
    "\n",
    "    "
   ],
   "outputs": [],
   "metadata": {}
  },
  {
   "cell_type": "code",
   "execution_count": null,
   "source": [],
   "outputs": [],
   "metadata": {}
  }
 ],
 "metadata": {
  "interpreter": {
   "hash": "2d96ecc5d5f8a38171b9ef7daf9db498166b3c122d4c64163979b4ed071b3992"
  },
  "kernelspec": {
   "name": "python3",
   "display_name": "Python 3.8.10 64-bit ('env': venv)"
  },
  "language_info": {
   "codemirror_mode": {
    "name": "ipython",
    "version": 3
   },
   "file_extension": ".py",
   "mimetype": "text/x-python",
   "name": "python",
   "nbconvert_exporter": "python",
   "pygments_lexer": "ipython3",
   "version": "3.8.10"
  }
 },
 "nbformat": 4,
 "nbformat_minor": 4
}